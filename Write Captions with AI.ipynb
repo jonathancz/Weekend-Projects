{
 "cells": [
  {
   "cell_type": "code",
   "execution_count": 15,
   "metadata": {},
   "outputs": [],
   "source": [
    "from PIL import Image\n",
    "import cloudsight"
   ]
  },
  {
   "cell_type": "code",
   "execution_count": 16,
   "metadata": {},
   "outputs": [],
   "source": [
    "im = Image.open('test3.jpg')\n",
    "im.thumbnail((600,600))\n",
    "im.save('cloudsight.jpg')\n",
    "\n",
    "auth = cloudsight.SimpleAuth('kc67seuADhFPJCVWnlOPuQ')"
   ]
  },
  {
   "cell_type": "code",
   "execution_count": 19,
   "metadata": {},
   "outputs": [],
   "source": [
    "api = cloudsight.API(auth)"
   ]
  },
  {
   "cell_type": "code",
   "execution_count": 22,
   "metadata": {},
   "outputs": [
    {
     "name": "stdout",
     "output_type": "stream",
     "text": [
      "man in black motorcycle helmet riding motorcycle on road during daytime\n"
     ]
    }
   ],
   "source": [
    "with open('cloudsight.jpg', 'rb') as f:\n",
    "    response = api.image_request(f, 'cloudsight.jpg', {'image_request[locale]': 'en_US',})\n",
    "status = api.wait(response['token'], timeout=30)\n",
    "print(status['name'])"
   ]
  },
  {
   "cell_type": "code",
   "execution_count": null,
   "metadata": {},
   "outputs": [],
   "source": []
  }
 ],
 "metadata": {
  "kernelspec": {
   "display_name": "Python 3",
   "language": "python",
   "name": "python3"
  },
  "language_info": {
   "codemirror_mode": {
    "name": "ipython",
    "version": 3
   },
   "file_extension": ".py",
   "mimetype": "text/x-python",
   "name": "python",
   "nbconvert_exporter": "python",
   "pygments_lexer": "ipython3",
   "version": "3.6.8"
  }
 },
 "nbformat": 4,
 "nbformat_minor": 2
}
